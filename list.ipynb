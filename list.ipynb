{
 "metadata": {
  "language_info": {
   "codemirror_mode": {
    "name": "ipython",
    "version": 3
   },
   "file_extension": ".py",
   "mimetype": "text/x-python",
   "name": "python",
   "nbconvert_exporter": "python",
   "pygments_lexer": "ipython3",
   "version": "3.9.1-final"
  },
  "orig_nbformat": 2,
  "kernelspec": {
   "name": "python3",
   "display_name": "Python 3.9.1 64-bit",
   "metadata": {
    "interpreter": {
     "hash": "c68fbda25b6bbfcdf1f07c467353c30433577114e0cbd2a0938a65422c097238"
    }
   }
  }
 },
 "nbformat": 4,
 "nbformat_minor": 2,
 "cells": [
  {
   "source": [
    "## wap to store 10 movies entered by the user in a ist"
   ],
   "cell_type": "markdown",
   "metadata": {}
  },
  {
   "cell_type": "code",
   "execution_count": 16,
   "metadata": {},
   "outputs": [],
   "source": [
    "movies= []\n",
    "for i in range(10):\n",
    "    name=input('enter the names of movies')\n",
    "    movies.append(name)\n",
    "    "
   ]
  },
  {
   "source": [
    "## wap to store 100 even numbers in list"
   ],
   "cell_type": "markdown",
   "metadata": {}
  },
  {
   "cell_type": "code",
   "execution_count": 1,
   "metadata": {},
   "outputs": [
    {
     "output_type": "stream",
     "name": "stdout",
     "text": [
      "[2, 4, 6, 8, 10, 12, 14, 16, 18, 20, 22, 24, 26, 28, 30, 32, 34, 36, 38, 40, 42, 44, 46, 48, 50, 52, 54, 56, 58, 60, 62, 64, 66, 68, 70, 72, 74, 76, 78, 80, 82, 84, 86, 88, 90, 92, 94, 96, 98, 100, 102, 104, 106, 108, 110, 112, 114, 116, 118, 120, 122, 124, 126, 128, 130, 132, 134, 136, 138, 140, 142, 144, 146, 148, 150, 152, 154, 156, 158, 160, 162, 164, 166, 168, 170, 172, 174, 176, 178, 180, 182, 184, 186, 188, 190, 192, 194, 196, 198, 200]\n"
     ]
    }
   ],
   "source": [
    "evens=list(range(2,201,2))\n",
    "print(evens)\n"
   ]
  },
  {
   "source": [
    "# wap to store 10 prime numbers in a list"
   ],
   "cell_type": "markdown",
   "metadata": {}
  },
  {
   "cell_type": "code",
   "execution_count": 5,
   "metadata": {},
   "outputs": [
    {
     "output_type": "stream",
     "name": "stdout",
     "text": [
      "not prime\n"
     ]
    }
   ],
   "source": [
    "num=91203\n",
    "for i in range(2,num):\n",
    "    if num % i==0:\n",
    "        print(\"not prime\")\n",
    "        break\n",
    "else:\n",
    "    print(f'(num) is prime')\n"
   ]
  },
  {
   "cell_type": "code",
   "execution_count": 8,
   "metadata": {},
   "outputs": [
    {
     "output_type": "stream",
     "name": "stdout",
     "text": [
      "13 is prime\n"
     ]
    }
   ],
   "source": [
    "num = 13\n",
    "for i in range(2,num):\n",
    "    if num % i==0:\n",
    "        print(\"not prime\")\n",
    "        break\n",
    "else:\n",
    "    print(f'{num} is prime')"
   ]
  },
  {
   "cell_type": "code",
   "execution_count": null,
   "metadata": {},
   "outputs": [],
   "source": [
    "primes=[]\n",
    "num=2\n",
    "while len(primes)<10:\n",
    "    print(primes,len(primes),num)\n",
    "    for i in range(2,num):\n",
    "        if num%i==0:\n",
    "            break\n",
    "    else:\n",
    "        primes.append(num)\n",
    "    num+=1"
   ]
  },
  {
   "cell_type": "code",
   "execution_count": null,
   "metadata": {},
   "outputs": [],
   "source": [
    "primes\n"
   ]
  },
  {
   "cell_type": "code",
   "execution_count": null,
   "metadata": {},
   "outputs": [],
   "source": [
    "print(primes)"
   ]
  },
  {
   "cell_type": "code",
   "execution_count": 3,
   "metadata": {},
   "outputs": [
    {
     "output_type": "stream",
     "name": "stdout",
     "text": [
      "[] 0 2\n[2] 1 3\n[2, 3] 2 4\n[2, 3] 2 5\n[2, 3, 5] 3 6\n[2, 3, 5] 3 7\n[2, 3, 5, 7] 4 8\n[2, 3, 5, 7] 4 9\n[2, 3, 5, 7] 4 10\n[2, 3, 5, 7] 4 11\n[2, 3, 5, 7, 11] 5 12\n[2, 3, 5, 7, 11] 5 13\n[2, 3, 5, 7, 11, 13] 6 14\n[2, 3, 5, 7, 11, 13] 6 15\n[2, 3, 5, 7, 11, 13] 6 16\n[2, 3, 5, 7, 11, 13] 6 17\n[2, 3, 5, 7, 11, 13, 17] 7 18\n[2, 3, 5, 7, 11, 13, 17] 7 19\n[2, 3, 5, 7, 11, 13, 17, 19] 8 20\n[2, 3, 5, 7, 11, 13, 17, 19] 8 21\n[2, 3, 5, 7, 11, 13, 17, 19] 8 22\n[2, 3, 5, 7, 11, 13, 17, 19] 8 23\n[2, 3, 5, 7, 11, 13, 17, 19, 23] 9 24\n[2, 3, 5, 7, 11, 13, 17, 19, 23] 9 25\n[2, 3, 5, 7, 11, 13, 17, 19, 23] 9 26\n[2, 3, 5, 7, 11, 13, 17, 19, 23] 9 27\n[2, 3, 5, 7, 11, 13, 17, 19, 23] 9 28\n[2, 3, 5, 7, 11, 13, 17, 19, 23] 9 29\n"
     ]
    }
   ],
   "source": [
    "primes = []\n",
    "num = 2\n",
    "while len(primes) < 10:\n",
    "    print (primes, len(primes), num)\n",
    "    for i in range(2, num):\n",
    "        if num%i == 0:\n",
    "            break\n",
    "    else:\n",
    "        primes.append(num)\n",
    "    num+=1"
   ]
  },
  {
   "cell_type": "code",
   "execution_count": 2,
   "metadata": {},
   "outputs": [
    {
     "output_type": "execute_result",
     "data": {
      "text/plain": [
       "[2, 3, 5, 7, 11, 13, 17, 19, 23, 29]"
      ]
     },
     "metadata": {},
     "execution_count": 2
    }
   ],
   "source": [
    "primes"
   ]
  },
  {
   "cell_type": "code",
   "execution_count": 4,
   "metadata": {},
   "outputs": [],
   "source": [
    "flowers=['sunflower','rose','iris','chrysanthemum','lotus','lotus','lily','tulip','orchid','acacia']\n"
   ]
  },
  {
   "cell_type": "code",
   "execution_count": 12,
   "metadata": {},
   "outputs": [
    {
     "output_type": "execute_result",
     "data": {
      "text/plain": [
       "['sunflower', 'rose', 'lotus', 'lotus', 'orchid']"
      ]
     },
     "metadata": {},
     "execution_count": 12
    }
   ],
   "source": [
    "flower_o = []\n",
    "for item in flowers:\n",
    "    if 'o' in item:\n",
    "        flower_o.append(item)\n",
    "flower_o"
   ]
  },
  {
   "cell_type": "code",
   "execution_count": 10,
   "metadata": {},
   "outputs": [
    {
     "output_type": "execute_result",
     "data": {
      "text/plain": [
       "['sunflower', 'rose', 'chrysanthemum']"
      ]
     },
     "metadata": {},
     "execution_count": 10
    }
   ],
   "source": [
    "flowers_e =[item for item in flowers if 'e' in item] #list comprehension\n",
    "flowers_e"
   ]
  },
  {
   "cell_type": "code",
   "execution_count": 20,
   "metadata": {},
   "outputs": [],
   "source": [
    "x=[2,3,4,5,6]"
   ]
  },
  {
   "cell_type": "code",
   "execution_count": 22,
   "metadata": {},
   "outputs": [],
   "source": [
    "x2=[]\n",
    "for i in x:\n",
    "    sqr=i**2\n",
    "    x2.append(sqr)\n"
   ]
  },
  {
   "cell_type": "code",
   "execution_count": 23,
   "metadata": {},
   "outputs": [
    {
     "output_type": "execute_result",
     "data": {
      "text/plain": [
       "[4, 9, 16, 25, 36]"
      ]
     },
     "metadata": {},
     "execution_count": 23
    }
   ],
   "source": [
    "x2"
   ]
  },
  {
   "cell_type": "code",
   "execution_count": 24,
   "metadata": {},
   "outputs": [
    {
     "output_type": "execute_result",
     "data": {
      "text/plain": [
       "[8, 27, 64, 125, 216]"
      ]
     },
     "metadata": {},
     "execution_count": 24
    }
   ],
   "source": [
    "x3=[i**3 for i in x] #list comprehension\n",
    "x3"
   ]
  },
  {
   "cell_type": "code",
   "execution_count": null,
   "metadata": {},
   "outputs": [],
   "source": []
  }
 ]
}