{
 "metadata": {
  "language_info": {
   "codemirror_mode": {
    "name": "ipython",
    "version": 3
   },
   "file_extension": ".py",
   "mimetype": "text/x-python",
   "name": "python",
   "nbconvert_exporter": "python",
   "pygments_lexer": "ipython3",
   "version": "3.9.1"
  },
  "orig_nbformat": 2,
  "kernelspec": {
   "name": "python3",
   "display_name": "Python 3.9.1 64-bit",
   "metadata": {
    "interpreter": {
     "hash": "5602a9af9a48ab202ae6c51f3fa25fac35c2d2eaae7e6820148ca051964da639"
    }
   }
  }
 },
 "nbformat": 4,
 "nbformat_minor": 2,
 "cells": [
  {
   "cell_type": "code",
   "execution_count": 30,
   "metadata": {},
   "outputs": [],
   "source": [
    "flower='chrysanthemum'\n",
    "name='Vijay deenanath chauhan'\n",
    "quote='''Life before death,\n",
    "Hope before despair,\n",
    "journey before Destination'''"
   ]
  },
  {
   "cell_type": "code",
   "execution_count": 3,
   "metadata": {},
   "outputs": [
    {
     "output_type": "stream",
     "name": "stdout",
     "text": [
      "chrysanthemum\n"
     ]
    }
   ],
   "source": [
    "print(flower)"
   ]
  },
  {
   "cell_type": "code",
   "execution_count": 4,
   "metadata": {},
   "outputs": [
    {
     "output_type": "stream",
     "name": "stdout",
     "text": [
      "Life before death,\nHope before despair,\njourney before Destination\n"
     ]
    }
   ],
   "source": [
    "print(quote)"
   ]
  },
  {
   "cell_type": "code",
   "execution_count": 5,
   "metadata": {},
   "outputs": [
    {
     "output_type": "execute_result",
     "data": {
      "text/plain": [
       "'r'"
      ]
     },
     "metadata": {},
     "execution_count": 5
    }
   ],
   "source": [
    "flower[2]"
   ]
  },
  {
   "cell_type": "code",
   "execution_count": 6,
   "metadata": {},
   "outputs": [
    {
     "output_type": "execute_result",
     "data": {
      "text/plain": [
       "'t'"
      ]
     },
     "metadata": {},
     "execution_count": 6
    }
   ],
   "source": [
    "flower[-6]"
   ]
  },
  {
   "cell_type": "code",
   "execution_count": 7,
   "metadata": {},
   "outputs": [
    {
     "output_type": "execute_result",
     "data": {
      "text/plain": [
       "'D'"
      ]
     },
     "metadata": {},
     "execution_count": 7
    }
   ],
   "source": [
    "name[6]"
   ]
  },
  {
   "cell_type": "code",
   "execution_count": 10,
   "metadata": {},
   "outputs": [
    {
     "output_type": "execute_result",
     "data": {
      "text/plain": [
       "'b'"
      ]
     },
     "metadata": {},
     "execution_count": 10
    }
   ],
   "source": [
    "quote[-18]"
   ]
  },
  {
   "source": [
    "string[startidx: stopidx]=> get substring from start till stop-1\n",
    "string[startidx:stopidx:gap]=> get substr  from start till stop-1,with gap\n",
    "string[:stopidx]=> get substring from beginning till stop-1\n",
    "string[startidx:]=> get substring from start till length of string"
   ],
   "cell_type": "code",
   "metadata": {},
   "execution_count": null,
   "outputs": []
  },
  {
   "cell_type": "code",
   "execution_count": 12,
   "metadata": {},
   "outputs": [
    {
     "output_type": "execute_result",
     "data": {
      "text/plain": [
       "'chrys'"
      ]
     },
     "metadata": {},
     "execution_count": 12
    }
   ],
   "source": [
    "flower[:5]"
   ]
  },
  {
   "cell_type": "code",
   "execution_count": 13,
   "metadata": {},
   "outputs": [
    {
     "output_type": "execute_result",
     "data": {
      "text/plain": [
       "'nthemum'"
      ]
     },
     "metadata": {},
     "execution_count": 13
    }
   ],
   "source": [
    "flower[6:]"
   ]
  },
  {
   "cell_type": "code",
   "execution_count": 14,
   "metadata": {},
   "outputs": [
    {
     "output_type": "execute_result",
     "data": {
      "text/plain": [
       "'an'"
      ]
     },
     "metadata": {},
     "execution_count": 14
    }
   ],
   "source": [
    "flower[5:7]"
   ]
  },
  {
   "cell_type": "code",
   "execution_count": 19,
   "metadata": {},
   "outputs": [
    {
     "output_type": "execute_result",
     "data": {
      "text/plain": [
       "'V a h'"
      ]
     },
     "metadata": {},
     "execution_count": 19
    }
   ],
   "source": [
    "name[0:22:5]"
   ]
  },
  {
   "cell_type": "code",
   "execution_count": 32,
   "metadata": {},
   "outputs": [
    {
     "output_type": "stream",
     "name": "stdout",
     "text": [
      "0 V\n1 i\n2 j\n3 a\n4 y\n5  \n6 d\n7 e\n8 e\n9 n\n10 a\n11 n\n12 a\n13 t\n14 h\n15  \n16 c\n17 h\n18 a\n19 u\n20 h\n21 a\n22 n\n"
     ]
    }
   ],
   "source": [
    "for i,v in enumerate(name):\n",
    "    print(i,v)"
   ]
  },
  {
   "cell_type": "code",
   "execution_count": 21,
   "metadata": {},
   "outputs": [
    {
     "output_type": "execute_result",
     "data": {
      "text/plain": [
       "'Vijay'"
      ]
     },
     "metadata": {},
     "execution_count": 21
    }
   ],
   "source": [
    "name[0:5]"
   ]
  },
  {
   "cell_type": "code",
   "execution_count": 23,
   "metadata": {},
   "outputs": [
    {
     "output_type": "execute_result",
     "data": {
      "text/plain": [
       "'Deenanath'"
      ]
     },
     "metadata": {},
     "execution_count": 23
    }
   ],
   "source": [
    "name[6:15]"
   ]
  },
  {
   "cell_type": "code",
   "execution_count": 34,
   "metadata": {},
   "outputs": [
    {
     "output_type": "execute_result",
     "data": {
      "text/plain": [
       "'chauhan'"
      ]
     },
     "metadata": {},
     "execution_count": 34
    }
   ],
   "source": [
    "name[16:23]"
   ]
  },
  {
   "cell_type": "code",
   "execution_count": 35,
   "metadata": {},
   "outputs": [
    {
     "output_type": "execute_result",
     "data": {
      "text/plain": [
       "40"
      ]
     },
     "metadata": {},
     "execution_count": 35
    }
   ],
   "source": [
    "quote.find('journey')"
   ]
  },
  {
   "cell_type": "code",
   "execution_count": 36,
   "metadata": {},
   "outputs": [
    {
     "output_type": "execute_result",
     "data": {
      "text/plain": [
       "'journey before Destination'"
      ]
     },
     "metadata": {},
     "execution_count": 36
    }
   ],
   "source": [
    "quote[40:]"
   ]
  },
  {
   "cell_type": "code",
   "execution_count": 1,
   "metadata": {},
   "outputs": [],
   "source": [
    "sentence='I want to Vijaywada to haVe a Holiday.'"
   ]
  },
  {
   "cell_type": "code",
   "execution_count": 2,
   "metadata": {},
   "outputs": [
    {
     "output_type": "execute_result",
     "data": {
      "text/plain": [
       "'I WANT TO VIJAYWADA TO HAVE A HOLIDAY.'"
      ]
     },
     "metadata": {},
     "execution_count": 2
    }
   ],
   "source": [
    "sentence.upper()"
   ]
  },
  {
   "cell_type": "code",
   "execution_count": 3,
   "metadata": {},
   "outputs": [],
   "source": [
    "senu=sentence.upper()"
   ]
  },
  {
   "cell_type": "code",
   "execution_count": 4,
   "metadata": {},
   "outputs": [],
   "source": [
    "sen1=sentence.lower()"
   ]
  },
  {
   "cell_type": "code",
   "execution_count": 6,
   "metadata": {},
   "outputs": [],
   "source": [
    "senc= sentence.capitalize()\n",
    "sent =sentence.title()"
   ]
  },
  {
   "cell_type": "code",
   "execution_count": 7,
   "metadata": {},
   "outputs": [
    {
     "output_type": "execute_result",
     "data": {
      "text/plain": [
       "'i want to vijaywada to have a holiday.'"
      ]
     },
     "metadata": {},
     "execution_count": 7
    }
   ],
   "source": [
    "sentence.casefold()"
   ]
  },
  {
   "cell_type": "code",
   "execution_count": 8,
   "metadata": {},
   "outputs": [
    {
     "output_type": "execute_result",
     "data": {
      "text/plain": [
       "'i WANT TO vIJAYWADA TO HAvE A hOLIDAY.'"
      ]
     },
     "metadata": {},
     "execution_count": 8
    }
   ],
   "source": [
    "sentence.swapcase()"
   ]
  },
  {
   "cell_type": "code",
   "execution_count": 9,
   "metadata": {},
   "outputs": [],
   "source": [
    "word='Solid'"
   ]
  },
  {
   "cell_type": "code",
   "execution_count": 12,
   "metadata": {},
   "outputs": [
    {
     "output_type": "execute_result",
     "data": {
      "text/plain": [
       "'                                             Solid'"
      ]
     },
     "metadata": {},
     "execution_count": 12
    }
   ],
   "source": [
    "word.rjust(50)"
   ]
  },
  {
   "cell_type": "code",
   "execution_count": 13,
   "metadata": {},
   "outputs": [
    {
     "output_type": "execute_result",
     "data": {
      "text/plain": [
       "'Solid                                             '"
      ]
     },
     "metadata": {},
     "execution_count": 13
    }
   ],
   "source": [
    "word.ljust(50)"
   ]
  },
  {
   "cell_type": "code",
   "execution_count": 15,
   "metadata": {},
   "outputs": [
    {
     "output_type": "execute_result",
     "data": {
      "text/plain": [
       "'         Solid          '"
      ]
     },
     "metadata": {},
     "execution_count": 15
    }
   ],
   "source": [
    "word.center(24)"
   ]
  },
  {
   "cell_type": "code",
   "execution_count": 2,
   "metadata": {},
   "outputs": [
    {
     "output_type": "stream",
     "name": "stdout",
     "text": [
      "0\n000\n00000\n0000000\n000000000\n00000000000\n0000000000000\n"
     ]
    }
   ],
   "source": [
    "for i in range(1,15,2):\n",
    "    print('0'*i)"
   ]
  },
  {
   "cell_type": "code",
   "execution_count": 5,
   "metadata": {},
   "outputs": [
    {
     "output_type": "stream",
     "name": "stdout",
     "text": [
      "       0       \n      000      \n     00000     \n    0000000    \n   000000000   \n  00000000000  \n 0000000000000 \n"
     ]
    }
   ],
   "source": [
    "for i in range(1,15,2):\n",
    "    print (('0'*i).center(15))"
   ]
  },
  {
   "cell_type": "code",
   "execution_count": 8,
   "metadata": {},
   "outputs": [],
   "source": [
    "a='1234'\n"
   ]
  },
  {
   "cell_type": "code",
   "execution_count": 9,
   "metadata": {},
   "outputs": [
    {
     "output_type": "execute_result",
     "data": {
      "text/plain": [
       "True"
      ]
     },
     "metadata": {},
     "execution_count": 9
    }
   ],
   "source": [
    "a.isnumeric()"
   ]
  },
  {
   "cell_type": "code",
   "execution_count": 11,
   "metadata": {},
   "outputs": [
    {
     "output_type": "stream",
     "name": "stdout",
     "text": [
      "wrong input\n"
     ]
    }
   ],
   "source": [
    "x= input('enter a number')\n",
    "if x.isnumeric():\n",
    "    print('good boy')\n",
    "    x=int(x)\n",
    "else:\n",
    "    print('wrong input')\n",
    "    "
   ]
  },
  {
   "source": [
    "# important functions"
   ],
   "cell_type": "markdown",
   "metadata": {}
  },
  {
   "cell_type": "code",
   "execution_count": 19,
   "metadata": {},
   "outputs": [],
   "source": [
    "quote='life before death, hope before despair, journey before destination'"
   ]
  },
  {
   "cell_type": "code",
   "execution_count": 20,
   "metadata": {},
   "outputs": [
    {
     "output_type": "stream",
     "name": "stdout",
     "text": [
      "['life', 'before', 'death,', 'hope', 'before', 'despair,', 'journey', 'before', 'destination']\n"
     ]
    }
   ],
   "source": [
    "words=quote.split()\n",
    "print(words)"
   ]
  },
  {
   "cell_type": "code",
   "execution_count": 21,
   "metadata": {},
   "outputs": [
    {
     "output_type": "execute_result",
     "data": {
      "text/plain": [
       "9"
      ]
     },
     "metadata": {},
     "execution_count": 21
    }
   ],
   "source": [
    "len(words)"
   ]
  },
  {
   "cell_type": "code",
   "execution_count": 22,
   "metadata": {},
   "outputs": [
    {
     "output_type": "execute_result",
     "data": {
      "text/plain": [
       "['life before death', ' hope before despair', ' journey before destination']"
      ]
     },
     "metadata": {},
     "execution_count": 22
    }
   ],
   "source": [
    "quote.split(',')"
   ]
  },
  {
   "cell_type": "code",
   "execution_count": 30,
   "metadata": {},
   "outputs": [],
   "source": [
    "wiki='''\n",
    "Wikipedia was launched on January 15, 2001, by Jimmy Wales and Larry Sanger. Sanger coined its name[5][6] as a portmanteau of \"wiki\" and \"encyclopedia\". It was initially an English-language encyclopedia, but versions in other languages were quickly developed. With 6.3 million articles, the English Wikipedia is the largest of the 317 Wikipedia encyclopedias. Overall, Wikipedia comprises more than 55 million articles,[7] attracting 1.7 billion unique visitors per month.[8][9]'''"
   ]
  },
  {
   "cell_type": "code",
   "execution_count": 31,
   "metadata": {},
   "outputs": [
    {
     "output_type": "stream",
     "name": "stdout",
     "text": [
      "Wikipedia       9\nwas             3\nlaunched        8\non              2\nJanuary         7\n15,             3\n2001,           5\nby              2\nJimmy           5\nWales           5\nand             3\nLarry           5\nSanger.         7\nSanger          6\ncoined          6\nits             3\nname[5][6]      10\nas              2\na               1\nportmanteau     11\nof              2\n\"wiki\"          6\nand             3\n\"encyclopedia\". 15\nIt              2\nwas             3\ninitially       9\nan              2\nEnglish-language 16\nencyclopedia,   13\nbut             3\nversions        8\nin              2\nother           5\nlanguages       9\nwere            4\nquickly         7\ndeveloped.      10\nWith            4\n6.3             3\nmillion         7\narticles,       9\nthe             3\nEnglish         7\nWikipedia       9\nis              2\nthe             3\nlargest         7\nof              2\nthe             3\n317             3\nWikipedia       9\nencyclopedias.  14\nOverall,        8\nWikipedia       9\ncomprises       9\nmore            4\nthan            4\n55              2\nmillion         7\narticles,[7]    12\nattracting      10\n1.7             3\nbillion         7\nunique          6\nvisitors        8\nper             3\nmonth.[8][9]    12\n"
     ]
    }
   ],
   "source": [
    "for word in wiki.split():\n",
    "    print(word.ljust(15),len(word))"
   ]
  },
  {
   "cell_type": "code",
   "execution_count": 32,
   "metadata": {},
   "outputs": [
    {
     "output_type": "stream",
     "name": "stdout",
     "text": [
      "Wikipedia 9\nname[5][6] 10\nportmanteau 11\n\"encyclopedia\". 15\nEnglish-language 16\n"
     ]
    }
   ],
   "source": [
    "largest=''\n",
    "for word in wiki.split():\n",
    "\n",
    "    if len(largest)<len(word):\n",
    "        largest=word\n",
    "        print(largest,len(largest))"
   ]
  },
  {
   "cell_type": "code",
   "execution_count": 33,
   "metadata": {},
   "outputs": [
    {
     "output_type": "execute_result",
     "data": {
      "text/plain": [
       "'\\nWikipedia was launched ohh January 15, 2001, by Jimmy Wales and Larry Sanger. Sanger coined its name[5][6] as a portmanteau of \"wiki\" and \"encyclopedia\". It was initially an English-language encyclopedia, but versiohhs in other languages were quickly developed. With 6.3 milliohh articles, the English Wikipedia is the largest of the 317 Wikipedia encyclopedias. Overall, Wikipedia comprises more than 55 milliohh articles,[7] attracting 1.7 billiohh unique visitors per mohhth.[8][9]'"
      ]
     },
     "metadata": {},
     "execution_count": 33
    }
   ],
   "source": [
    "wiki.replace('on','ohh')"
   ]
  },
  {
   "cell_type": "code",
   "execution_count": 34,
   "metadata": {},
   "outputs": [
    {
     "output_type": "execute_result",
     "data": {
      "text/plain": [
       "'\\nWikipedia was launched on January 15, 2001, by Jimmy Wales and Larry Sanger. Sanger coouted its name[5][6] as a portmanteau of \"wiki\" and \"encyclopedia\". It was outitially an English-language encyclopedia, but versions out other languages were quickly developed. With 6.3 million articles, the English Wikipedia is the largest of the 317 Wikipedia encyclopedias. Overall, Wikipedia comprises more than 55 million articles,[7] attractoutg 1.7 billion unique visiehrs per month.[8][9]'"
      ]
     },
     "metadata": {},
     "execution_count": 34
    }
   ],
   "source": [
    "wiki.replace('to','eh').replace('in','out')"
   ]
  },
  {
   "cell_type": "code",
   "execution_count": 35,
   "metadata": {},
   "outputs": [],
   "source": [
    "newwiki=wiki.replace('is','are')"
   ]
  },
  {
   "cell_type": "code",
   "execution_count": 36,
   "metadata": {},
   "outputs": [
    {
     "output_type": "execute_result",
     "data": {
      "text/plain": [
       "'\\nWikipedia was launched on January 15, 2001, by Jimmy Wales and Larry Sanger. Sanger coined its name[5][6] as a portmanteau of \"wiki\" and \"encyclopedia\". It was initially an Englareh-language encyclopedia, but versions in other languages were quickly developed. With 6.3 million articles, the Englareh Wikipedia are the largest of the 317 Wikipedia encyclopedias. Overall, Wikipedia comprarees more than 55 million articles,[7] attracting 1.7 billion unique vareitors per month.[8][9]'"
      ]
     },
     "metadata": {},
     "execution_count": 36
    }
   ],
   "source": [
    "newwiki"
   ]
  },
  {
   "cell_type": "code",
   "execution_count": null,
   "metadata": {},
   "outputs": [],
   "source": []
  }
 ]
}