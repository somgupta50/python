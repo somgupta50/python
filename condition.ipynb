{
 "metadata": {
  "language_info": {
   "codemirror_mode": {
    "name": "ipython",
    "version": 3
   },
   "file_extension": ".py",
   "mimetype": "text/x-python",
   "name": "python",
   "nbconvert_exporter": "python",
   "pygments_lexer": "ipython3",
   "version": "3.9.1-final"
  },
  "orig_nbformat": 2,
  "kernelspec": {
   "name": "python3",
   "display_name": "Python 3.9.1 64-bit",
   "metadata": {
    "interpreter": {
     "hash": "c68fbda25b6bbfcdf1f07c467353c30433577114e0cbd2a0938a65422c097238"
    }
   }
  }
 },
 "nbformat": 4,
 "nbformat_minor": 2,
 "cells": [
  {
   "cell_type": "code",
   "execution_count": 1,
   "metadata": {},
   "outputs": [
    {
     "output_type": "stream",
     "name": "stdout",
     "text": [
      "hurray\n"
     ]
    }
   ],
   "source": [
    "a=120\n",
    "if a>100:\n",
    "    print('hurray')\n",
    "    "
   ]
  },
  {
   "cell_type": "code",
   "execution_count": 2,
   "metadata": {},
   "outputs": [],
   "source": [
    "if a==123:\n",
    "    print('amazing')\n",
    "    print('this block wont run')"
   ]
  },
  {
   "cell_type": "code",
   "execution_count": 3,
   "metadata": {},
   "outputs": [
    {
     "output_type": "stream",
     "name": "stdout",
     "text": [
      "a is smalllest\n"
     ]
    }
   ],
   "source": [
    "a=10\n",
    "b=20\n",
    "c=30\n",
    "if a<b and a<c:\n",
    "    print('a is smalllest')"
   ]
  },
  {
   "cell_type": "code",
   "execution_count": 4,
   "metadata": {},
   "outputs": [
    {
     "output_type": "stream",
     "name": "stdout",
     "text": [
      "welcome ben 10\n"
     ]
    }
   ],
   "source": [
    "username =input('enter username')\n",
    "password =input('enter password')\n",
    "if username=='Ben' and password =='Omitrix':\n",
    "    print('welcome ben 10')\n"
   ]
  },
  {
   "cell_type": "code",
   "execution_count": 5,
   "metadata": {},
   "outputs": [
    {
     "output_type": "stream",
     "name": "stdout",
     "text": [
      "you are adult person\nyou are old too\n"
     ]
    }
   ],
   "source": [
    "age=30\n",
    "if age>25:\n",
    "    print ('you are adult person')\n",
    "if age >50:\n",
    "    print('you are and old person')\n",
    "if age==30:\n",
    "    print('you are old tooin')"
   ]
  },
  {
   "cell_type": "code",
   "execution_count": 7,
   "metadata": {},
   "outputs": [
    {
     "output_type": "stream",
     "name": "stdout",
     "text": [
      "you are welcome\n"
     ]
    }
   ],
   "source": [
    "firstname='Vijay'\n",
    "lastname='chauhan'\n",
    "if firstname.startswith('V'):\n",
    "    if lastname.startswith('c'):\n",
    "        print('you are welcome')\n"
   ]
  },
  {
   "cell_type": "code",
   "execution_count": 9,
   "metadata": {},
   "outputs": [
    {
     "output_type": "stream",
     "name": "stdout",
     "text": [
      "you are the chosen one\n"
     ]
    }
   ],
   "source": [
    "fav_color=input('enter fav color')\n",
    "if fav_color in['red','yellow','orange']:\n",
    "    fav_fruit=input(\"enter your fav fruit\")\n",
    "    if fav_fruit.startswith('o'):\n",
    "       print('you are the chosen one')"
   ]
  },
  {
   "cell_type": "code",
   "execution_count": 19,
   "metadata": {},
   "outputs": [
    {
     "output_type": "stream",
     "name": "stdout",
     "text": [
      "pocket money: 701\n"
     ]
    }
   ],
   "source": [
    "pm =int(input('eneter pocket money'))\n",
    "if pm>1000:\n",
    "    pm=pm-500\n",
    "    if pm<600:\n",
    "        pm=pm+200\n",
    "        print('pocket money:',pm)"
   ]
  },
  {
   "cell_type": "code",
   "execution_count": 24,
   "metadata": {},
   "outputs": [
    {
     "output_type": "stream",
     "name": "stdout",
     "text": [
      "nothing true\n"
     ]
    }
   ],
   "source": [
    "\n",
    "        a=20\n",
    "        if a>=30:\n",
    "            print('its true')\n",
    "        else:\n",
    "            print('nothing true')"
   ]
  },
  {
   "cell_type": "code",
   "execution_count": 22,
   "metadata": {},
   "outputs": [
    {
     "output_type": "stream",
     "name": "stdout",
     "text": [
      "Its True\n"
     ]
    }
   ],
   "source": [
    "a=40\n",
    "if a>=30:\n",
    "    print('Its True')\n",
    "else:\n",
    "        print('nothing true')"
   ]
  },
  {
   "cell_type": "code",
   "execution_count": 26,
   "metadata": {},
   "outputs": [
    {
     "output_type": "stream",
     "name": "stdout",
     "text": [
      "your name is consonanty \n"
     ]
    }
   ],
   "source": [
    "nm=input('enter your name')\n",
    "if nm.startswith('a') or nm.startswith('e') or nm.startswith('i') or nm.startswith('o') or nm.startswith('u'):\n",
    "    print('your name is vowelly')\n",
    "else:\n",
    "    print('your name is consonanty ')"
   ]
  },
  {
   "cell_type": "code",
   "execution_count": 27,
   "metadata": {},
   "outputs": [
    {
     "output_type": "stream",
     "name": "stdout",
     "text": [
      "your name is vowelly\n"
     ]
    }
   ],
   "source": [
    "nm=input('enter your name')\n",
    "if nm.startswith('a') or nm.startswith('e') or nm.startswith('i') or nm.startswith('o') or nm.startswith('u'):\n",
    "    print('your name is vowelly')\n",
    "else:\n",
    "    print('your name is consonanty ')"
   ]
  },
  {
   "cell_type": "code",
   "execution_count": 30,
   "metadata": {},
   "outputs": [
    {
     "output_type": "stream",
     "name": "stdout",
     "text": [
      "true\n"
     ]
    }
   ],
   "source": [
    "string='in keyword finds the occurence of an element'\n",
    "if 'the' in string:\n",
    "    print('true')"
   ]
  },
  {
   "source": [
    "a=40\n",
    "b=30\n",
    "\n",
    "if a is 50:\n",
    "    print('a is 50')\n",
    "elif b is not 10:\n",
    "    print('b is 10')\n",
    "else:\n",
    "    print('nothing true')\n",
    "    "
   ],
   "cell_type": "code",
   "metadata": {},
   "execution_count": 2,
   "outputs": [
    {
     "output_type": "stream",
     "name": "stdout",
     "text": [
      "b is 10\n"
     ]
    }
   ]
  },
  {
   "cell_type": "code",
   "execution_count": 32,
   "metadata": {},
   "outputs": [
    {
     "output_type": "stream",
     "name": "stdout",
     "text": [
      "you won the prize\n"
     ]
    }
   ],
   "source": [
    "answer='naruto'\n",
    "question='who is the father of boruto'\n",
    "\n",
    "response=input(question)\n",
    "if response==answer:\n",
    "    print('you won the prize')\n",
    "elif response !='sasuke':\n",
    "    print('you have not been reading chapters')\n",
    "elif response=='hinata':\n",
    "    print('you do not understand the question')\n",
    "else:\n",
    "        print('you gave wrong answer')"
   ]
  },
  {
   "cell_type": "code",
   "execution_count": null,
   "metadata": {},
   "outputs": [],
   "source": []
  }
 ]
}