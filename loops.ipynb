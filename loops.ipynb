{
 "metadata": {
  "language_info": {
   "codemirror_mode": {
    "name": "ipython",
    "version": 3
   },
   "file_extension": ".py",
   "mimetype": "text/x-python",
   "name": "python",
   "nbconvert_exporter": "python",
   "pygments_lexer": "ipython3",
   "version": "3.9.1-final"
  },
  "orig_nbformat": 2,
  "kernelspec": {
   "name": "python3",
   "display_name": "Python 3.9.1 64-bit",
   "metadata": {
    "interpreter": {
     "hash": "c68fbda25b6bbfcdf1f07c467353c30433577114e0cbd2a0938a65422c097238"
    }
   }
  }
 },
 "nbformat": 4,
 "nbformat_minor": 2,
 "cells": [
  {
   "source": [
    "- step based loop\n",
    "    - for\n",
    "- condition based loop\n",
    "    - while\n",
    "\n"
   ],
   "cell_type": "markdown",
   "metadata": {}
  },
  {
   "source": [
    "for temp_var in itarable\n",
    "statement 1\n",
    "statement 2\n",
    "...\n",
    "statement n\n"
   ],
   "cell_type": "code",
   "metadata": {},
   "execution_count": null,
   "outputs": []
  },
  {
   "cell_type": "code",
   "execution_count": 7,
   "metadata": {},
   "outputs": [
    {
     "output_type": "execute_result",
     "data": {
      "text/plain": [
       "7"
      ]
     },
     "metadata": {},
     "execution_count": 7
    }
   ],
   "source": [
    "x=[1,2,3,4,5,6,7]\n",
    "len(x)\n"
   ]
  },
  {
   "cell_type": "code",
   "execution_count": 8,
   "metadata": {},
   "outputs": [
    {
     "output_type": "stream",
     "name": "stdout",
     "text": [
      "1\n2\n3\n4\n5\n6\n7\n"
     ]
    }
   ],
   "source": [
    "for i in x:\n",
    "    print(i)"
   ]
  },
  {
   "cell_type": "code",
   "execution_count": 9,
   "metadata": {},
   "outputs": [
    {
     "output_type": "stream",
     "name": "stdout",
     "text": [
      "S\no\nm\n"
     ]
    }
   ],
   "source": [
    "name='Som'\n",
    "for ch in name:\n",
    "    print (ch)"
   ]
  },
  {
   "cell_type": "code",
   "execution_count": 10,
   "metadata": {},
   "outputs": [
    {
     "output_type": "stream",
     "name": "stdout",
     "text": [
      "i like tiger\ni like cat\ni like dog\ni like lion\ni like elephant\ni like cow\n"
     ]
    }
   ],
   "source": [
    "animals=['tiger','cat','dog','lion','elephant','cow']\n",
    "for animal in animals:\n",
    "    print(f'i like {animal}')\n",
    "    "
   ]
  },
  {
   "cell_type": "code",
   "execution_count": 22,
   "metadata": {},
   "outputs": [
    {
     "output_type": "stream",
     "name": "stdout",
     "text": [
      "1\n1\n1\n2\n4\n8\n3\n9\n27\n4\n16\n64\n5\n25\n125\n6\n36\n216\n7\n49\n343\nthe end\n"
     ]
    }
   ],
   "source": [
    "for i in x:\n",
    "    print(i)\n",
    "    print(i**2)\n",
    "    print(i**3)\n",
    "print('the end')"
   ]
  },
  {
   "cell_type": "code",
   "execution_count": 28,
   "metadata": {},
   "outputs": [
    {
     "output_type": "stream",
     "name": "stdout",
     "text": [
      "2\n4\n6\n"
     ]
    }
   ],
   "source": [
    "for i in x:\n",
    "    if i % 2 == 0:\n",
    "        print(i)\n"
   ]
  },
  {
   "cell_type": "code",
   "execution_count": 29,
   "metadata": {},
   "outputs": [
    {
     "output_type": "stream",
     "name": "stdout",
     "text": [
      "2\n4\n6\n"
     ]
    }
   ],
   "source": [
    "for i in x:\n",
    "    if i % 2 == 0:\n",
    "        print(i)"
   ]
  },
  {
   "cell_type": "code",
   "execution_count": 30,
   "metadata": {},
   "outputs": [
    {
     "output_type": "stream",
     "name": "stdout",
     "text": [
      "10*1=10\n10*2=20\n10*3=30\n10*4=40\n10*5=50\n10*6=60\n10*7=70\n"
     ]
    }
   ],
   "source": [
    "for i in x:\n",
    "    print(f'10*{i}={10*i}')\n",
    "    "
   ]
  },
  {
   "source": [
    "### iterables in python - those itmes that can be looped in python\n",
    "- string\n",
    "- list\n",
    "- tuple\n",
    "- set\n",
    "- dict\n",
    "- range() - used for specifing the no of times a loop should run\n",
    "- so on"
   ],
   "cell_type": "markdown",
   "metadata": {}
  },
  {
   "source": [
    "- 'range(stop)'        -> givesa sequence from 0---> stop - 1\n",
    "- range(start,stop)    -> gives a sequence from start---> stop - 1\n",
    "- range(start,stop,gap)-> gives a sequence from "
   ],
   "cell_type": "code",
   "metadata": {},
   "execution_count": null,
   "outputs": []
  },
  {
   "cell_type": "code",
   "execution_count": 33,
   "metadata": {},
   "outputs": [
    {
     "output_type": "stream",
     "name": "stdout",
     "text": [
      "0\n1\n2\n3\n4\n"
     ]
    }
   ],
   "source": [
    "for i in range(5):\n",
    "    print(i)"
   ]
  },
  {
   "cell_type": "code",
   "execution_count": 34,
   "metadata": {},
   "outputs": [
    {
     "output_type": "stream",
     "name": "stdout",
     "text": [
      "5\n6\n7\n8\n9\n10\n"
     ]
    }
   ],
   "source": [
    "for a in range(5,11):\n",
    "    print(a)\n"
   ]
  },
  {
   "cell_type": "code",
   "execution_count": 35,
   "metadata": {},
   "outputs": [
    {
     "output_type": "stream",
     "name": "stdout",
     "text": [
      "1\n3\n5\n7\n9\n"
     ]
    }
   ],
   "source": [
    "for i in range (1,11,2):\n",
    "    print(i)"
   ]
  },
  {
   "cell_type": "code",
   "execution_count": 37,
   "metadata": {},
   "outputs": [
    {
     "output_type": "stream",
     "name": "stdout",
     "text": [
      "😉\n😉\n😉\n😉\n😉\n😉\n😉\n😉\n😉\n😉\n"
     ]
    }
   ],
   "source": [
    "for i in range(10):\n",
    "     print('😉')\n",
    "    "
   ]
  },
  {
   "cell_type": "code",
   "execution_count": null,
   "metadata": {},
   "outputs": [],
   "source": [
    "for i in range (10):\n",
    "    print(😉)"
   ]
  },
  {
   "cell_type": "code",
   "execution_count": 41,
   "metadata": {},
   "outputs": [
    {
     "output_type": "stream",
     "name": "stdout",
     "text": [
      "10\n9\n8\n7\n6\n5\n4\n3\n2\n1\n"
     ]
    }
   ],
   "source": [
    "for i in range(10,0,-1):\n",
    "    print(i)"
   ]
  },
  {
   "cell_type": "code",
   "execution_count": 42,
   "metadata": {},
   "outputs": [
    {
     "output_type": "stream",
     "name": "stdout",
     "text": [
      "-5\n-4\n-3\n-2\n-1\n0\n1\n2\n3\n4\n"
     ]
    }
   ],
   "source": [
    "for i in range(-5,5):\n",
    "    print(i)"
   ]
  },
  {
   "cell_type": "code",
   "execution_count": 2,
   "metadata": {},
   "outputs": [
    {
     "output_type": "stream",
     "name": "stdout",
     "text": [
      "😉😉😉😉😉😉😉😉😉😉\n😉😉😉😉😉😉😉😉😉\n😉😉😉😉😉😉😉😉\n😉😉😉😉😉😉😉\n😉😉😉😉😉😉\n😉😉😉😉😉\n😉😉😉😉\n😉😉😉\n😉😉\n😉\n"
     ]
    }
   ],
   "source": [
    "for i in range(10,0,-1):\n",
    "    print('😉'*i)"
   ]
  },
  {
   "cell_type": "code",
   "execution_count": 3,
   "metadata": {},
   "outputs": [
    {
     "output_type": "stream",
     "name": "stdout",
     "text": [
      "\n😉\n😉😉\n😉😉😉\n😉😉😉😉\n😉😉😉😉😉\n😉😉😉😉😉😉\n😉😉😉😉😉😉😉\n😉😉😉😉😉😉😉😉\n😉😉😉😉😉😉😉😉😉\n"
     ]
    }
   ],
   "source": [
    "for i in range(10):\n",
    "    print('😉'*i)"
   ]
  },
  {
   "source": [
    "## break n continue\n",
    "- break => stop loop beore its completion based on condition \n",
    "- continue=> skip a code execution in loop\n"
   ],
   "cell_type": "markdown",
   "metadata": {}
  },
  {
   "cell_type": "code",
   "execution_count": 52,
   "metadata": {},
   "outputs": [
    {
     "output_type": "stream",
     "name": "stdout",
     "text": [
      "90\n",
      "the end\n"
     ]
    }
   ],
   "source": [
    "for i in range (10):\n",
    "    num=int (input('enter a value'))\n",
    "    if num>50:\n",
    "        print(num)\n",
    "    else:\n",
    "        break\n",
    "print('the end')"
   ]
  },
  {
   "source": [
    "### continue"
   ],
   "cell_type": "markdown",
   "metadata": {}
  },
  {
   "cell_type": "code",
   "execution_count": 3,
   "metadata": {},
   "outputs": [
    {
     "output_type": "execute_result",
     "data": {
      "text/plain": [
       "18"
      ]
     },
     "metadata": {},
     "execution_count": 3
    }
   ],
   "source": [
    "nums=[1,2,3,4,5,0,0,6,7,8,0,0,1,2,31,0,23,19]\n",
    "len(nums)"
   ]
  },
  {
   "cell_type": "code",
   "execution_count": 5,
   "metadata": {},
   "outputs": [
    {
     "output_type": "stream",
     "name": "stdout",
     "text": [
      "original 1\nsquare 1\ncube 1\n------------------------------------\noriginal 2\nsquare 4\ncube 8\n------------------------------------\noriginal 3\nsquare 9\ncube 27\n------------------------------------\noriginal 4\nsquare 16\ncube 64\n------------------------------------\noriginal 5\nsquare 25\ncube 125\n------------------------------------\noriginal 6\nsquare 36\ncube 216\n------------------------------------\noriginal 7\nsquare 49\ncube 343\n------------------------------------\noriginal 8\nsquare 64\ncube 512\n------------------------------------\noriginal 1\nsquare 1\ncube 1\n------------------------------------\noriginal 2\nsquare 4\ncube 8\n------------------------------------\noriginal 31\nsquare 961\ncube 29791\n------------------------------------\noriginal 23\nsquare 529\ncube 12167\n------------------------------------\noriginal 19\nsquare 361\ncube 6859\n------------------------------------\n"
     ]
    }
   ],
   "source": [
    "for val in nums:\n",
    "    if val==0:\n",
    "        continue\n",
    "    print('original',val)\n",
    "    print('square',val**2)\n",
    "    print('cube',val**3)\n",
    "    print('--'*18)"
   ]
  },
  {
   "source": [
    "## while loop"
   ],
   "cell_type": "markdown",
   "metadata": {}
  },
  {
   "source": [
    " while condiiton: \n",
    "     statement 1\n",
    "     statement 2\n",
    "     ...\n",
    "     statement n"
   ],
   "cell_type": "code",
   "metadata": {},
   "execution_count": null,
   "outputs": []
  },
  {
   "source": [
    "i=100\n",
    "while i > 0:\n",
    "    print('i hai',i)\n",
    "    i=i//10"
   ],
   "cell_type": "code",
   "metadata": {},
   "execution_count": 11,
   "outputs": [
    {
     "output_type": "stream",
     "name": "stdout",
     "text": [
      "i hai 100\ni hai 10\ni hai 1\n"
     ]
    }
   ]
  },
  {
   "cell_type": "code",
   "execution_count": 14,
   "metadata": {},
   "outputs": [
    {
     "output_type": "stream",
     "name": "stdout",
     "text": [
      "123456789\n12345678\n1234567\n123456\n12345\n1234\n123\n12\n1\n"
     ]
    }
   ],
   "source": [
    "i=123456789\n",
    "while i > 0:\n",
    "    print(i)\n",
    "    i=i//10"
   ]
  },
  {
   "cell_type": "code",
   "execution_count": 3,
   "metadata": {},
   "outputs": [
    {
     "output_type": "stream",
     "name": "stdout",
     "text": [
      "try again\n",
      "welcome mr zorro\n"
     ]
    }
   ],
   "source": [
    "while True:\n",
    "    email=input('enter email ')\n",
    "    password=input('enter password')\n",
    "\n",
    "    if email=='zorro' and password=='12345':\n",
    "       print('welcome mr zorro')\n",
    "       break\n",
    "    else:\n",
    "       print('try again')"
   ]
  },
  {
   "source": [
    "while True:\n",
    "    print('calculator Menu')\n",
    "    print('ADD\\tSUB\\tDIV\\tEXIT')\n",
    "    print('--'*20)\n",
    "    print('>>')\n",
    "    ch=input('select option>>')\n",
    "    if ch.lower()=='add':\n",
    "        x=int(input('enter a:'))\n",
    "        y=int(input('enter b:'))\n",
    "        print(f'{x}+{y}={x+y}')\n",
    "        print('-'*20)\n",
    "    elif ch.lower()=='sub':\n",
    "        x=int(input('enter A:'))\n",
    "        y=int(input('enter B:'))\n",
    "        print(f'{x}-{y}={x-y}')\n",
    "        print('-'*20)\n",
    "    elif ch.lower()=='div':\n",
    "        x=int(input('enter A:'))\n",
    "        y=int(input('enter B:'))\n",
    "        print(f'{x}//{y}={x//y}')\n",
    "        print('-'*20)\n",
    "    elif ch.lower()=='exit':\n",
    "       print('calc closed')\n",
    "       break"
   ],
   "cell_type": "code",
   "metadata": {},
   "execution_count": 17,
   "outputs": [
    {
     "output_type": "stream",
     "name": "stdout",
     "text": [
      "calculator Menu\n",
      "ADD\tSUB\tDIV\tEXIT\n",
      "----------------------------------------\n",
      ">>\n",
      "20//2=10\n",
      "--------------------\n",
      "calculator Menu\n",
      "ADD\tSUB\tDIV\tEXIT\n",
      "----------------------------------------\n",
      ">>\n",
      "calc closed\n"
     ]
    }
   ]
  },
  {
   "cell_type": "code",
   "execution_count": 5,
   "metadata": {},
   "outputs": [
    {
     "output_type": "execute_result",
     "data": {
      "text/plain": [
       "'rakesh'"
      ]
     },
     "metadata": {},
     "execution_count": 5
    }
   ],
   "source": [
    "'Rakesh'.lower()"
   ]
  },
  {
   "source": [
    "wap to make a program that takes lines from the user to store in a var- poem. the user any number of lines"
   ],
   "cell_type": "markdown",
   "metadata": {}
  },
  {
   "cell_type": "code",
   "execution_count": 14,
   "metadata": {},
   "outputs": [
    {
     "output_type": "stream",
     "name": "stdout",
     "text": [
      "enter ur poem>>\n",
      "your poem is\n",
      "ba ba black sleep\n",
      "have you any wool\n",
      "yes sir yes sir\n",
      "three bags full\n",
      "\n"
     ]
    }
   ],
   "source": [
    "poem=''\n",
    "print('enter ur poem>>')\n",
    "while True:\n",
    "    line= input('>>')\n",
    "    if line:                  #if line has something\n",
    "        poem+=line +'\\n'\n",
    "    else:\n",
    "        break\n",
    "print('your poem is')\n",
    "print(poem)"
   ]
  },
  {
   "cell_type": "code",
   "execution_count": 15,
   "metadata": {},
   "outputs": [
    {
     "output_type": "execute_result",
     "data": {
      "text/plain": [
       "'ba ba black sleep\\nhave you any wool\\nyes sir yes sir\\nthree bags full\\n'"
      ]
     },
     "metadata": {},
     "execution_count": 15
    }
   ],
   "source": [
    "poem"
   ]
  },
  {
   "cell_type": "code",
   "execution_count": null,
   "metadata": {},
   "outputs": [],
   "source": []
  }
 ]
}