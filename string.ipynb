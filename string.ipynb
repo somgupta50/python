{
 "metadata": {
  "language_info": {
   "codemirror_mode": {
    "name": "ipython",
    "version": 3
   },
   "file_extension": ".py",
   "mimetype": "text/x-python",
   "name": "python",
   "nbconvert_exporter": "python",
   "pygments_lexer": "ipython3",
   "version": "3.9.1"
  },
  "orig_nbformat": 2,
  "kernelspec": {
   "name": "python3",
   "display_name": "Python 3.9.1 64-bit",
   "metadata": {
    "interpreter": {
     "hash": "5602a9af9a48ab202ae6c51f3fa25fac35c2d2eaae7e6820148ca051964da639"
    }
   }
  }
 },
 "nbformat": 4,
 "nbformat_minor": 2,
 "cells": [
  {
   "cell_type": "code",
   "execution_count": 30,
   "metadata": {},
   "outputs": [],
   "source": [
    "flower='chrysanthemum'\n",
    "name='Vijay deenanath chauhan'\n",
    "quote='''Life before death,\n",
    "Hope before despair,\n",
    "journey before Destination'''"
   ]
  },
  {
   "cell_type": "code",
   "execution_count": 3,
   "metadata": {},
   "outputs": [
    {
     "output_type": "stream",
     "name": "stdout",
     "text": [
      "chrysanthemum\n"
     ]
    }
   ],
   "source": [
    "print(flower)"
   ]
  },
  {
   "cell_type": "code",
   "execution_count": 4,
   "metadata": {},
   "outputs": [
    {
     "output_type": "stream",
     "name": "stdout",
     "text": [
      "Life before death,\nHope before despair,\njourney before Destination\n"
     ]
    }
   ],
   "source": [
    "print(quote)"
   ]
  },
  {
   "cell_type": "code",
   "execution_count": 5,
   "metadata": {},
   "outputs": [
    {
     "output_type": "execute_result",
     "data": {
      "text/plain": [
       "'r'"
      ]
     },
     "metadata": {},
     "execution_count": 5
    }
   ],
   "source": [
    "flower[2]"
   ]
  },
  {
   "cell_type": "code",
   "execution_count": 6,
   "metadata": {},
   "outputs": [
    {
     "output_type": "execute_result",
     "data": {
      "text/plain": [
       "'t'"
      ]
     },
     "metadata": {},
     "execution_count": 6
    }
   ],
   "source": [
    "flower[-6]"
   ]
  },
  {
   "cell_type": "code",
   "execution_count": 7,
   "metadata": {},
   "outputs": [
    {
     "output_type": "execute_result",
     "data": {
      "text/plain": [
       "'D'"
      ]
     },
     "metadata": {},
     "execution_count": 7
    }
   ],
   "source": [
    "name[6]"
   ]
  },
  {
   "cell_type": "code",
   "execution_count": 10,
   "metadata": {},
   "outputs": [
    {
     "output_type": "execute_result",
     "data": {
      "text/plain": [
       "'b'"
      ]
     },
     "metadata": {},
     "execution_count": 10
    }
   ],
   "source": [
    "quote[-18]"
   ]
  },
  {
   "source": [
    "string[startidx: stopidx]=> get substring from start till stop-1\n",
    "string[startidx:stopidx:gap]=> get substr  from start till stop-1,with gap\n",
    "string[:stopidx]=> get substring from beginning till stop-1\n",
    "string[startidx:]=> get substring from start till length of string"
   ],
   "cell_type": "code",
   "metadata": {},
   "execution_count": null,
   "outputs": []
  },
  {
   "cell_type": "code",
   "execution_count": 12,
   "metadata": {},
   "outputs": [
    {
     "output_type": "execute_result",
     "data": {
      "text/plain": [
       "'chrys'"
      ]
     },
     "metadata": {},
     "execution_count": 12
    }
   ],
   "source": [
    "flower[:5]"
   ]
  },
  {
   "cell_type": "code",
   "execution_count": 13,
   "metadata": {},
   "outputs": [
    {
     "output_type": "execute_result",
     "data": {
      "text/plain": [
       "'nthemum'"
      ]
     },
     "metadata": {},
     "execution_count": 13
    }
   ],
   "source": [
    "flower[6:]"
   ]
  },
  {
   "cell_type": "code",
   "execution_count": 14,
   "metadata": {},
   "outputs": [
    {
     "output_type": "execute_result",
     "data": {
      "text/plain": [
       "'an'"
      ]
     },
     "metadata": {},
     "execution_count": 14
    }
   ],
   "source": [
    "flower[5:7]"
   ]
  },
  {
   "cell_type": "code",
   "execution_count": 19,
   "metadata": {},
   "outputs": [
    {
     "output_type": "execute_result",
     "data": {
      "text/plain": [
       "'V a h'"
      ]
     },
     "metadata": {},
     "execution_count": 19
    }
   ],
   "source": [
    "name[0:22:5]"
   ]
  },
  {
   "cell_type": "code",
   "execution_count": 32,
   "metadata": {},
   "outputs": [
    {
     "output_type": "stream",
     "name": "stdout",
     "text": [
      "0 V\n1 i\n2 j\n3 a\n4 y\n5  \n6 d\n7 e\n8 e\n9 n\n10 a\n11 n\n12 a\n13 t\n14 h\n15  \n16 c\n17 h\n18 a\n19 u\n20 h\n21 a\n22 n\n"
     ]
    }
   ],
   "source": [
    "for i,v in enumerate(name):\n",
    "    print(i,v)"
   ]
  },
  {
   "cell_type": "code",
   "execution_count": 21,
   "metadata": {},
   "outputs": [
    {
     "output_type": "execute_result",
     "data": {
      "text/plain": [
       "'Vijay'"
      ]
     },
     "metadata": {},
     "execution_count": 21
    }
   ],
   "source": [
    "name[0:5]"
   ]
  },
  {
   "cell_type": "code",
   "execution_count": 23,
   "metadata": {},
   "outputs": [
    {
     "output_type": "execute_result",
     "data": {
      "text/plain": [
       "'Deenanath'"
      ]
     },
     "metadata": {},
     "execution_count": 23
    }
   ],
   "source": [
    "name[6:15]"
   ]
  },
  {
   "cell_type": "code",
   "execution_count": 34,
   "metadata": {},
   "outputs": [
    {
     "output_type": "execute_result",
     "data": {
      "text/plain": [
       "'chauhan'"
      ]
     },
     "metadata": {},
     "execution_count": 34
    }
   ],
   "source": [
    "name[16:23]"
   ]
  },
  {
   "cell_type": "code",
   "execution_count": 35,
   "metadata": {},
   "outputs": [
    {
     "output_type": "execute_result",
     "data": {
      "text/plain": [
       "40"
      ]
     },
     "metadata": {},
     "execution_count": 35
    }
   ],
   "source": [
    "quote.find('journey')"
   ]
  },
  {
   "cell_type": "code",
   "execution_count": 36,
   "metadata": {},
   "outputs": [
    {
     "output_type": "execute_result",
     "data": {
      "text/plain": [
       "'journey before Destination'"
      ]
     },
     "metadata": {},
     "execution_count": 36
    }
   ],
   "source": [
    "quote[40:]"
   ]
  },
  {
   "cell_type": "code",
   "execution_count": 1,
   "metadata": {},
   "outputs": [],
   "source": [
    "sentence='I want to Vijaywada to haVe a Holiday.'"
   ]
  },
  {
   "cell_type": "code",
   "execution_count": 2,
   "metadata": {},
   "outputs": [
    {
     "output_type": "execute_result",
     "data": {
      "text/plain": [
       "'I WANT TO VIJAYWADA TO HAVE A HOLIDAY.'"
      ]
     },
     "metadata": {},
     "execution_count": 2
    }
   ],
   "source": [
    "sentence.upper()"
   ]
  },
  {
   "cell_type": "code",
   "execution_count": 3,
   "metadata": {},
   "outputs": [],
   "source": [
    "senu=sentence.upper()"
   ]
  },
  {
   "cell_type": "code",
   "execution_count": 4,
   "metadata": {},
   "outputs": [],
   "source": [
    "sen1=sentence.lower()"
   ]
  },
  {
   "cell_type": "code",
   "execution_count": 6,
   "metadata": {},
   "outputs": [],
   "source": [
    "senc= sentence.capitalize()\n",
    "sent =sentence.title()"
   ]
  },
  {
   "cell_type": "code",
   "execution_count": 7,
   "metadata": {},
   "outputs": [
    {
     "output_type": "execute_result",
     "data": {
      "text/plain": [
       "'i want to vijaywada to have a holiday.'"
      ]
     },
     "metadata": {},
     "execution_count": 7
    }
   ],
   "source": [
    "sentence.casefold()"
   ]
  },
  {
   "cell_type": "code",
   "execution_count": 8,
   "metadata": {},
   "outputs": [
    {
     "output_type": "execute_result",
     "data": {
      "text/plain": [
       "'i WANT TO vIJAYWADA TO HAvE A hOLIDAY.'"
      ]
     },
     "metadata": {},
     "execution_count": 8
    }
   ],
   "source": [
    "sentence.swapcase()"
   ]
  },
  {
   "cell_type": "code",
   "execution_count": 9,
   "metadata": {},
   "outputs": [],
   "source": [
    "word='Solid'"
   ]
  },
  {
   "cell_type": "code",
   "execution_count": 12,
   "metadata": {},
   "outputs": [
    {
     "output_type": "execute_result",
     "data": {
      "text/plain": [
       "'                                             Solid'"
      ]
     },
     "metadata": {},
     "execution_count": 12
    }
   ],
   "source": [
    "word.rjust(50)"
   ]
  },
  {
   "cell_type": "code",
   "execution_count": 13,
   "metadata": {},
   "outputs": [
    {
     "output_type": "execute_result",
     "data": {
      "text/plain": [
       "'Solid                                             '"
      ]
     },
     "metadata": {},
     "execution_count": 13
    }
   ],
   "source": [
    "word.ljust(50)"
   ]
  },
  {
   "cell_type": "code",
   "execution_count": 15,
   "metadata": {},
   "outputs": [
    {
     "output_type": "execute_result",
     "data": {
      "text/plain": [
       "'         Solid          '"
      ]
     },
     "metadata": {},
     "execution_count": 15
    }
   ],
   "source": [
    "word.center(24)"
   ]
  },
  {
   "cell_type": "code",
   "execution_count": null,
   "metadata": {},
   "outputs": [],
   "source": []
  }
 ]
}